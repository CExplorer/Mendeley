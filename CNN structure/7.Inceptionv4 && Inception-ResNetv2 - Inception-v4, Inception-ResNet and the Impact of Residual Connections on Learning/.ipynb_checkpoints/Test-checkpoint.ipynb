{
 "cells": [
  {
   "cell_type": "code",
   "execution_count": 1,
   "metadata": {},
   "outputs": [],
   "source": [
    "import tensorflow as tf"
   ]
  },
  {
   "cell_type": "code",
   "execution_count": 11,
   "metadata": {},
   "outputs": [],
   "source": [
    "def weight_variable(shape, name=None):\n",
    "    initial = tf.truncated_normal(shape, stddev=0.1)\n",
    "    return tf.Variable(initial, name)\n",
    " \n",
    "def bias_variable(shape, name=None):\n",
    "    initial = tf.constant(0.1, shape=shape)\n",
    "    return tf.Variable(initial, name)\n",
    " \n",
    "def conv2d(input, filter, strides, padding=\"SAME\", name=None):\n",
    "    # filters with shape [filter_height * filter_width * in_channels, output_channels]\n",
    "    # Must have strides[0] = strides[3] =1\n",
    "    # For the most common case of the same horizontal and vertices strides, strides = [1, stride, stride, 1]\n",
    "    '''\n",
    "    Args:\n",
    "        input: A Tensor. Must be one of the following types: float32, float64.\n",
    "        filter: A Tensor. Must have the same type as input.\n",
    "        strides: A list of ints. 1-D of length 4. The stride of the sliding window for each dimension of input.\n",
    "        padding: A string from: \"SAME\", \"VALID\". The type of padding algorithm to use.\n",
    "        use_cudnn_on_gpu: An optional bool. Defaults to True.\n",
    "        name: A name for the operation (optional).\n",
    "    '''\n",
    "    return tf.nn.conv2d(input, filter, strides, padding=padding, name=name)  # padding=\"SAME\"用零填充边界\n",
    "\n",
    "def Conv(input, name, filter_size, bias_size, stride, padding):\n",
    "    with tf.name_scope(name):\n",
    "        with tf.name_scope('Variable'):\n",
    "            filters = weight_variable(filter_size, name='filter')\n",
    "            bias = weight_variable(bias_size, name='bias')\n",
    "        with tf.name_scope(\"Convolution\"):\n",
    "            layer = tf.nn.relu(conv2d(input, filters, strides=stride, padding = padding) + bias)\n",
    "    return layer"
   ]
  },
  {
   "cell_type": "code",
   "execution_count": 12,
   "metadata": {},
   "outputs": [],
   "source": [
    "X = tf.placeholder(tf.float32, [None, 299, 299, 3], name=\"Input\")"
   ]
  },
  {
   "cell_type": "code",
   "execution_count": 21,
   "metadata": {},
   "outputs": [],
   "source": [
    "with tf.name_scope('steam'):\n",
    "    net = Conv(input=X, name = 'Layer1', filter_size = [3,3,3,32], bias_size = [32],padding = 'VALID', stride = [1,2,2,1])\n",
    "    net1 = Conv(input=net, name = 'Layer2', filter_size = [3,3,32,32], bias_size = [32], padding = 'VALID', stride = [1,1,1,1])\n",
    "    net2 = Conv(input=net1, name = 'Layer3', filter_size = [3,3,32,64], bias_size = [64], padding = 'SAME', stride = [1,1,1,1])\n",
    "    with tf.name_scope('MaxPool_1'):\n",
    "        maxpool = tf.nn.max_pool(net2, ksize=[1, 3, 3, 1], strides=[1, 2, 2, 1], padding=\"VALID\",name='maxpool')\n",
    "    net3 = Conv(input=net2, name = 'Layer4', filter_size = [3,3,64,96], bias_size = [96], padding=\"VALID\", stride = [1,2,2,1])"
   ]
  },
  {
   "cell_type": "code",
   "execution_count": 22,
   "metadata": {},
   "outputs": [
    {
     "data": {
      "text/plain": [
       "<tf.Tensor 'steam_5/MaxPool_1/maxpool:0' shape=(?, 74, 74, 64) dtype=float32>"
      ]
     },
     "execution_count": 22,
     "metadata": {},
     "output_type": "execute_result"
    }
   ],
   "source": [
    "maxpool"
   ]
  },
  {
   "cell_type": "code",
   "execution_count": 23,
   "metadata": {},
   "outputs": [
    {
     "data": {
      "text/plain": [
       "<tf.Tensor 'steam_5/Layer1/Convolution/Relu:0' shape=(?, 150, 150, 32) dtype=float32>"
      ]
     },
     "execution_count": 23,
     "metadata": {},
     "output_type": "execute_result"
    }
   ],
   "source": [
    "net"
   ]
  },
  {
   "cell_type": "code",
   "execution_count": 24,
   "metadata": {},
   "outputs": [
    {
     "data": {
      "text/plain": [
       "<tf.Tensor 'steam_5/Layer2/Convolution/Relu:0' shape=(?, 150, 150, 32) dtype=float32>"
      ]
     },
     "execution_count": 24,
     "metadata": {},
     "output_type": "execute_result"
    }
   ],
   "source": [
    "net1"
   ]
  },
  {
   "cell_type": "code",
   "execution_count": null,
   "metadata": {},
   "outputs": [],
   "source": []
  }
 ],
 "metadata": {
  "kernelspec": {
   "display_name": "Python 3",
   "language": "python",
   "name": "python3"
  },
  "language_info": {
   "codemirror_mode": {
    "name": "ipython",
    "version": 3
   },
   "file_extension": ".py",
   "mimetype": "text/x-python",
   "name": "python",
   "nbconvert_exporter": "python",
   "pygments_lexer": "ipython3",
   "version": "3.6.6"
  }
 },
 "nbformat": 4,
 "nbformat_minor": 2
}
